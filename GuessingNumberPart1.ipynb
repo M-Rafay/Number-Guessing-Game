{
 "cells": [
  {
   "cell_type": "code",
   "execution_count": null,
   "metadata": {
    "collapsed": false
   },
   "outputs": [
    {
     "name": "stdout",
     "output_type": "stream",
     "text": [
      "Guess a number between 1 and 10.\n",
      "Guess Number.\n"
     ]
    }
   ],
   "source": [
    "# This is a guess the number game.\n",
    "import random\n",
    "\n",
    "guessesTaken = 1\n",
    "\n",
    "\n",
    "\n",
    "number = random.randint(1, 10)\n",
    "\n",
    "print('Guess a number between 1 and 10.')\n",
    "\n",
    "while guessesTaken < 6:\n",
    "    print('Guess Number.')\n",
    "    guess = input()\n",
    "    guess = int(guess)\n",
    "    guessesTaken = guessesTaken + 1\n",
    "    if abs(guess-number) > 5 :\n",
    "        print('Not even close')\n",
    "    if abs(guess-number) >= 3 and abs(guess-number) <=5:\n",
    "        print('Close')\n",
    "    if abs(guess-number) < 3:\n",
    "        print('Almost there')\n",
    "    if guess == number:\n",
    "        break\n",
    "\n",
    "if guess == number:\n",
    "    guessesTaken = str(guessesTaken)\n",
    "\n",
    "    print('! You guessed my number '+str(number) +' in ' + guessesTaken + ' guesses!')\n",
    "\n",
    "if guess != number:\n",
    "\n",
    "    number = str(number)\n",
    "\n",
    "    print('Nope. The number I was thinking of was ' + number)"
   ]
  },
  {
   "cell_type": "code",
   "execution_count": null,
   "metadata": {
    "collapsed": true
   },
   "outputs": [],
   "source": [
    ""
   ]
  }
 ],
 "metadata": {
  "kernelspec": {
   "display_name": "Python 3",
   "language": "python",
   "name": "python3"
  },
  "language_info": {
   "codemirror_mode": {
    "name": "ipython",
    "version": 3.0
   },
   "file_extension": ".py",
   "mimetype": "text/x-python",
   "name": "python",
   "nbconvert_exporter": "python",
   "pygments_lexer": "ipython3",
   "version": "3.6.8"
  }
 },
 "nbformat": 4,
 "nbformat_minor": 0
}