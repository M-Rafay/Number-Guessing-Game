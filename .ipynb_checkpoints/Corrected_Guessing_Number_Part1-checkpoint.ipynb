{
 "cells": [
  {
   "cell_type": "markdown",
   "metadata": {},
   "source": [
    "### Part 1 - Guessing Game (50 pts)\n",
    "\n",
    "In this problem you will implement a simple guessing game.\n",
    "\n",
    "First, the program should choose a secret number x between 1 and 10. Use the random function in the random module (random.random()) to pick a random number, as illustrated in class. \n",
    "\n",
    "Then, the program should prompt the user to type in a number. If the player guesses x correctly, the program should print a message and terminate.\n",
    "\n",
    "Otherwise, the program should print a hint and then ask the user for another guess:  \n",
    "\n",
    "if the difference between x and the guess is greater than 5, the program prints ‘not even close’.\n",
    "if the difference between x and the guess is between 3 and 5 (inclusive), the program prints ‘close’.\n",
    "if the difference between x and the guess is less than 3, the program prints ‘almost there’.\n",
    "The program should repeat asking the user for another input until the user guesses correctly or until there were five incorrect guesses. The program should keep track of the number of guesses. If the user cannot guess x in his fifth guess, the program informs her that the game is lost and quits.\n",
    "\n",
    "Your program should be in a single file part1.py.  Make sure to convert the user input into an int. Use a loop to ask for guesses and print hints repeatedly.\n"
   ]
  },
  {
   "cell_type": "code",
   "execution_count": 1,
   "metadata": {
    "collapsed": true
   },
   "outputs": [],
   "source": [
    "import random\n"
   ]
  },
  {
   "cell_type": "code",
   "execution_count": 2,
   "metadata": {
    "collapsed": false
   },
   "outputs": [
    {
     "name": "stdout",
     "output_type": "stream",
     "text": [
      "10\n"
     ]
    }
   ],
   "source": [
    "save0=random.randint(1,10)\n",
    "print (save0)"
   ]
  },
  {
   "cell_type": "code",
   "execution_count": 6,
   "metadata": {
    "collapsed": false
   },
   "outputs": [
    {
     "ename": "SyntaxError",
     "evalue": "invalid syntax (<ipython-input-6-083db235725a>, line 10)",
     "output_type": "error",
     "traceback": [
      "\u001b[1;36m  File \u001b[1;32m\"<ipython-input-6-083db235725a>\"\u001b[1;36m, line \u001b[1;32m10\u001b[0m\n\u001b[1;33m    print(\" try %d remaining\", %(3-county))\u001b[0m\n\u001b[1;37m                               ^\u001b[0m\n\u001b[1;31mSyntaxError\u001b[0m\u001b[1;31m:\u001b[0m invalid syntax\n"
     ]
    }
   ],
   "source": [
    "u=19\n",
    "county=0\n",
    "while ((u!=save0)&(county<4)):\n",
    "    u=int(input(\"Enter the user your guess\"))\n",
    "    county +=1\n",
    "    if u==save0:\n",
    "        print(\"Lucky guy! You guessed correctly\")\n",
    "        break\n",
    "    else:\n",
    "        print(\" try %d remaining\", (3-county))\n",
    "        \n",
    "    \n",
    "    "
   ]
  },
  {
   "cell_type": "markdown",
   "metadata": {},
   "source": [
    "### Working code"
   ]
  },
  {
   "cell_type": "code",
   "execution_count": 10,
   "metadata": {
    "collapsed": false
   },
   "outputs": [
    {
     "name": "stdout",
     "output_type": "stream",
     "text": [
      " computer guessed= 4\n",
      "Guess a number between 1 and 10.\n",
      "\n",
      "What is your Guess? enter the number Number.\n",
      "3\n",
      "Almost there\n",
      "\n",
      "What is your Guess? enter the number Number.\n",
      "5\n",
      "Almost there\n",
      "\n",
      "What is your Guess? enter the number Number.\n",
      "6\n",
      "Almost there\n",
      "\n",
      "What is your Guess? enter the number Number.\n",
      "7\n",
      " You are Close\n",
      "\n",
      "What is your Guess? enter the number Number.\n",
      "8\n",
      " You are Close\n",
      "All your 5 attempts missed. The number computer was thinking of was 4\n"
     ]
    }
   ],
   "source": [
    "# This is the working Code guess the number game.\n",
    "import random\n",
    "\n",
    "guessesTaken = 1\n",
    "\n",
    "\n",
    "\n",
    "pcNumber = random.randint(1, 10)\n",
    "print(\" computer guessed= %d\" %pcNumber)  # this line will be commented after explaination\n",
    "print('Guess a number between 1 and 10.')\n",
    "\n",
    "while guessesTaken < 6:\n",
    "    print('\\nWhat is your Guess? enter the number Number.')\n",
    "    guess = input()\n",
    "    guess = int(guess)\n",
    "    if guess == pcNumber:\n",
    "        break\n",
    "    if abs(guess-pcNumber) > 5 :\n",
    "        print('Not even close')\n",
    "    if abs(guess-pcNumber) >= 3 and abs(guess-pcNumber) <=5:\n",
    "        print(' You are Close')\n",
    "    if abs(guess-pcNumber) < 3:\n",
    "        print('Almost there')\n",
    "    \n",
    "    guessesTaken = guessesTaken + 1\n",
    "    \n",
    "if guess == pcNumber:\n",
    "    guessesTaken = str(guessesTaken)\n",
    "\n",
    "    print('You guessed Correctly! Computer saved number '+str(pcNumber) +' and you guessed it in ' + guessesTaken + ' attempts!')\n",
    "\n",
    "if guess != pcNumber:\n",
    "\n",
    "    pcNumber = str(pcNumber)\n",
    "\n",
    "    print('All your 5 attempts missed. The number computer was thinking of was ' + pcNumber)"
   ]
  },
  {
   "cell_type": "code",
   "execution_count": null,
   "metadata": {
    "collapsed": true
   },
   "outputs": [],
   "source": []
  },
  {
   "cell_type": "code",
   "execution_count": null,
   "metadata": {
    "collapsed": true
   },
   "outputs": [],
   "source": []
  },
  {
   "cell_type": "markdown",
   "metadata": {},
   "source": [
    "### Part 2 - Inverse guessing game (50 pts) \n",
    "\n",
    "Let’s inverse the roles in the guessing game. This time, the player chooses a secret number between 1 and 10 (in his mind) that the computer must guess. For this purpose, the computer suggests a number and the player indicates if it is 1) too big, 2) too small or 3) correct. The player's response should be read as user input. If the number is correct, the program should terminate. Otherwise the computer will ask another number repeatedly. The computer only has three attempts to guess the right number.\n",
    "\n",
    "Write the inverse guessing game as a new Python program in the file part2.py. Before starting to program, make sure to plan out your algorithm (maybe on paper).\n",
    "\n",
    "Hint: The strategy the compute should follow is similar to Binary Search. It's okay if the computer always guesses 5 as the first number although that will make some numbers \"unreachable\". You may also select a random number as the first number, but you should still use the steps of Binary Search to guess the next numbers."
   ]
  },
  {
   "cell_type": "code",
   "execution_count": null,
   "metadata": {
    "collapsed": true
   },
   "outputs": [],
   "source": []
  }
 ],
 "metadata": {
  "kernelspec": {
   "display_name": "Python 3",
   "language": "python",
   "name": "python3"
  },
  "language_info": {
   "codemirror_mode": {
    "name": "ipython",
    "version": 3
   },
   "file_extension": ".py",
   "mimetype": "text/x-python",
   "name": "python",
   "nbconvert_exporter": "python",
   "pygments_lexer": "ipython3",
   "version": "3.6.8"
  }
 },
 "nbformat": 4,
 "nbformat_minor": 2
}
