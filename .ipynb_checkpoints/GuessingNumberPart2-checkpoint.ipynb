{
 "cells": [
  {
   "cell_type": "markdown",
   "metadata": {},
   "source": [
    "Part 2 - Inverse guessing game (50 pts)\n",
    "\n",
    "Let’s inverse the roles in the guessing game. This time, the player chooses a secret number between 1 and 10 (in his mind) that the computer must guess. For this purpose, the computer suggests a number and the player indicates if it is 1) too big, 2) too small or 3) correct. The player's response should be read as user input. If the number is correct, the program should terminate. Otherwise the computer will ask another number repeatedly. The computer only has three attempts to guess the right number.\n",
    "\n",
    "Write the inverse guessing game as a new Python program in the file part2.py. Before starting to program, make sure to plan out your algorithm (maybe on paper).\n",
    "\n",
    "Hint: The strategy the compute should follow is similar to Binary Search. It's okay if the computer always guesses 5 as the first number although that will make some numbers \"unreachable\". You may also select a random number as the first number, but you should still use the steps of Binary Search to guess the next numbers."
   ]
  },
  {
   "cell_type": "code",
   "execution_count": null,
   "metadata": {
    "collapsed": false
   },
   "outputs": [
    {
     "name": "stdout",
     "output_type": "stream",
     "text": [
      "Please think of a number between 0 and 10!\n",
      "Is your secret number 5 ?\n"
     ]
    }
   ],
   "source": [
    "low = 0\n",
    "high = 10\n",
    "print('Please think of a number between 0 and 10!')\n",
    "count=1\n",
    "while count<4:\n",
    "    count=count+1\n",
    "    guess = (high + low)//2\n",
    "    print('Is your secret number ' + str(guess) + ' ?')\n",
    "    a = input(\"Enter 'h' to indicate the guess is too high. Enter 'l' to indicate the guess is too low. Enter 'c' to indicate I guessed correctly.\")\n",
    "    if a == 'c':\n",
    "        print('Game over. Your secret number was:', str(guess))\n",
    "        break\n",
    "    elif a == 'l':\n",
    "        low = guess\n",
    "    elif a == 'h':\n",
    "        high = guess\n",
    "    else:\n",
    "        print('Sorry, I did not understand your input.')\n",
    "        \n",
    "if count==4:\n",
    "    print(\"number of tries ends\")"
   ]
  },
  {
   "cell_type": "code",
   "execution_count": null,
   "metadata": {
    "collapsed": true
   },
   "outputs": [],
   "source": []
  },
  {
   "cell_type": "code",
   "execution_count": null,
   "metadata": {
    "collapsed": true
   },
   "outputs": [],
   "source": []
  }
 ],
 "metadata": {
  "kernelspec": {
   "display_name": "Python 3",
   "language": "python",
   "name": "python3"
  },
  "language_info": {
   "codemirror_mode": {
    "name": "ipython",
    "version": 3
   },
   "file_extension": ".py",
   "mimetype": "text/x-python",
   "name": "python",
   "nbconvert_exporter": "python",
   "pygments_lexer": "ipython3",
   "version": "3.6.8"
  }
 },
 "nbformat": 4,
 "nbformat_minor": 2
}
