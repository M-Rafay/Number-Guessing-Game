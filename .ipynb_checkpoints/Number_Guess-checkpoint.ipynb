{
 "cells": [
  {
   "cell_type": "code",
   "execution_count": 1,
   "metadata": {
    "collapsed": false
   },
   "outputs": [],
   "source": [
    "# import random\n",
    "# n = random.randint(1, 10)\n",
    "# guess = int(input(\"Enter an integer from 1 to 10: \"))\n",
    "\n",
    "# count=0\n",
    "# while count <5 or n != guess:\n",
    "#     count=count+1\n",
    "#     print\n",
    "#     if guess < n:\n",
    "#         print (\"guess is low\")\n",
    "#         guess = int(input(\"Enter an integer from 1 to 10: \"))\n",
    "#     elif guess > n:\n",
    "#         print (\"guess is high\")\n",
    "#         guess = int(input(\"Enter an integer from 1 to 10: \"))\n",
    "#     else:\n",
    "#         print (\"you guessed it!\")\n",
    "#         break"
   ]
  },
  {
   "cell_type": "code",
   "execution_count": null,
   "metadata": {
    "collapsed": false
   },
   "outputs": [],
   "source": [
    "# import random\n",
    "# n = random.randint(1, 10)"
   ]
  },
  {
   "cell_type": "code",
   "execution_count": null,
   "metadata": {
    "collapsed": false
   },
   "outputs": [],
   "source": [
    "# guess = int(input(\"Enter an integer from 1 to 10: \"))\n",
    "\n",
    "# count=0\n",
    "# while count <5:\n",
    "#     count=count+1\n",
    "    \n",
    "#     if guess==n:\n",
    "#         print (\"you guessed it!\")\n",
    "\n",
    "#     if guess < n:\n",
    "#         print (\"guess is low\")\n",
    "#         guess = int(input(\"Enter an integer from 1 to 10: \"))\n",
    "#     elif guess > n:\n",
    "#         print (\"guess is high\")\n",
    "#         guess = int(input(\"Enter an integer from 1 to 10: \"))\n",
    "#     else:\n",
    "#         print (\"you guessed it!\")\n",
    "        "
   ]
  },
  {
   "cell_type": "code",
   "execution_count": 4,
   "metadata": {
    "collapsed": false
   },
   "outputs": [
    {
     "name": "stdout",
     "output_type": "stream",
     "text": [
      "Hello! What is your name?\n",
      "r\n",
      "Well, r, I am thinking of a number between 1 and 20.\n",
      "Take a guess.\n",
      "1\n",
      "Your guess is too low.\n",
      "Take a guess.\n",
      "2\n",
      "Your guess is too low.\n",
      "Take a guess.\n",
      "4\n",
      "Your guess is too low.\n",
      "Take a guess.\n",
      "6\n",
      "Your guess is too low.\n",
      "Take a guess.\n",
      "9\n",
      "Your guess is too low.\n",
      "Take a guess.\n",
      "13\n",
      "Your guess is too low.\n",
      "Nope. The number I was thinking of was 16\n"
     ]
    }
   ],
   "source": [
    "# This is a guess the number game.\n",
    "import random\n",
    "\n",
    "guessesTaken = 0\n",
    "\n",
    "print('Hello! What is your name?')\n",
    "myName = input()\n",
    "\n",
    "\n",
    "number = random.randint(1, 10)\n",
    "\n",
    "print('Guess a number between 1 and 10.')\n",
    "\n",
    "while guessesTaken < 5:\n",
    "    print('Guess Number.') # There are four spaces in front of print.\n",
    "    guess = input()\n",
    "    guess = int(guess)\n",
    "    guessesTaken = guessesTaken + 1\n",
    "    if guess < number:\n",
    "        print('Your guess is too low.') # There are eight spaces in front of print.\n",
    "    if guess > number:\n",
    "        print('Your guess is too high.')\n",
    "    if guess == number:\n",
    "        break\n",
    "\n",
    "if guess == number:\n",
    "    guessesTaken = str(guessesTaken)\n",
    "\n",
    "    print('Good job, ' + myName + '! You guessed my number in ' + guessesTaken + ' guesses!')\n",
    "\n",
    "if guess != number:\n",
    "\n",
    "    number = str(number)\n",
    "\n",
    "    print('Nope. The number I was thinking of was ' + number)"
   ]
  },
  {
   "cell_type": "code",
   "execution_count": null,
   "metadata": {
    "collapsed": true
   },
   "outputs": [],
   "source": [
    "# This is a guess the number game.\n",
    "import random\n",
    "\n",
    "guessesTaken = 1\n",
    "\n",
    "\n",
    "\n",
    "number = random.randint(1, 10)\n",
    "\n",
    "print('Guess a number between 1 and 10.')\n",
    "\n",
    "while guessesTaken < 6:\n",
    "    print('Guess Number.') # There are four spaces in front of print.\n",
    "    guess = input()\n",
    "    guess = int(guess)\n",
    "    guessesTaken = guessesTaken + 1\n",
    "    if abs(guess-number) > 5 :\n",
    "        print('Not even close') # There are eight spaces in front of print.\n",
    "    if abs(guess-number) >= 3 and abs(guess-number) <=5:\n",
    "        print('Close')\n",
    "    if abs(guess-number) < 3:\n",
    "        print('Almost there')\n",
    "    if guess == number:\n",
    "        break\n",
    "\n",
    "if guess == number:\n",
    "    guessesTaken = str(guessesTaken)\n",
    "\n",
    "    print('! You guessed my number'+ guess +' in ' + guessesTaken + ' guesses!')\n",
    "\n",
    "if guess != number:\n",
    "\n",
    "    number = str(number)\n",
    "\n",
    "    print('Nope. The number I was thinking of was ' + number)"
   ]
  }
 ],
 "metadata": {
  "kernelspec": {
   "display_name": "Python 3",
   "language": "python",
   "name": "python3"
  },
  "language_info": {
   "codemirror_mode": {
    "name": "ipython",
    "version": 3
   },
   "file_extension": ".py",
   "mimetype": "text/x-python",
   "name": "python",
   "nbconvert_exporter": "python",
   "pygments_lexer": "ipython3",
   "version": "3.6.8"
  }
 },
 "nbformat": 4,
 "nbformat_minor": 2
}
